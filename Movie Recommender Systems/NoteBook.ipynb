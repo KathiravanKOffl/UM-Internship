{
 "cells": [
  {
   "cell_type": "markdown",
   "id": "7c893bf1-b4ac-4b1a-8e8d-2f354a939c4d",
   "metadata": {},
   "source": [
    "# Importing Libraries"
   ]
  },
  {
   "cell_type": "code",
   "execution_count": 1,
   "id": "765ca8d7-7f40-4b77-8e69-ac6500394813",
   "metadata": {},
   "outputs": [],
   "source": [
    "import pandas as pd"
   ]
  },
  {
   "cell_type": "markdown",
   "id": "b8f96b6b-95c4-406a-a783-ec921f1bb931",
   "metadata": {},
   "source": [
    "# Loading the datasets"
   ]
  },
  {
   "cell_type": "code",
   "execution_count": 14,
   "id": "b3aaa49d-a13a-4392-bd21-d9bdcd9b30d6",
   "metadata": {},
   "outputs": [
    {
     "name": "stderr",
     "output_type": "stream",
     "text": [
      "C:\\Users\\Kathir\\AppData\\Local\\Temp\\ipykernel_6252\\2806152990.py:1: DtypeWarning: Columns (10) have mixed types. Specify dtype option on import or set low_memory=False.\n",
      "  movies = pd.read_csv('DataSets/movies_metadata.csv')\n"
     ]
    }
   ],
   "source": [
    "movies = pd.read_csv('DataSets/movies_metadata.csv')\n",
    "ratings = pd.read_csv('DataSets/ratings_small.csv')"
   ]
  },
  {
   "cell_type": "markdown",
   "id": "aad6943a-9166-45f7-b448-580519db6ce6",
   "metadata": {},
   "source": [
    "# Displaying basic info and checking for missing values"
   ]
  },
  {
   "cell_type": "code",
   "execution_count": 15,
   "id": "0a79d7ac-f309-4430-ba9d-d28d386d1e06",
   "metadata": {},
   "outputs": [
    {
     "name": "stdout",
     "output_type": "stream",
     "text": [
      "<class 'pandas.core.frame.DataFrame'>\n",
      "RangeIndex: 45466 entries, 0 to 45465\n",
      "Data columns (total 24 columns):\n",
      " #   Column                 Non-Null Count  Dtype  \n",
      "---  ------                 --------------  -----  \n",
      " 0   adult                  45466 non-null  object \n",
      " 1   belongs_to_collection  4494 non-null   object \n",
      " 2   budget                 45466 non-null  object \n",
      " 3   genres                 45466 non-null  object \n",
      " 4   homepage               7782 non-null   object \n",
      " 5   id                     45466 non-null  object \n",
      " 6   imdb_id                45449 non-null  object \n",
      " 7   original_language      45455 non-null  object \n",
      " 8   original_title         45466 non-null  object \n",
      " 9   overview               44512 non-null  object \n",
      " 10  popularity             45461 non-null  object \n",
      " 11  poster_path            45080 non-null  object \n",
      " 12  production_companies   45463 non-null  object \n",
      " 13  production_countries   45463 non-null  object \n",
      " 14  release_date           45379 non-null  object \n",
      " 15  revenue                45460 non-null  float64\n",
      " 16  runtime                45203 non-null  float64\n",
      " 17  spoken_languages       45460 non-null  object \n",
      " 18  status                 45379 non-null  object \n",
      " 19  tagline                20412 non-null  object \n",
      " 20  title                  45460 non-null  object \n",
      " 21  video                  45460 non-null  object \n",
      " 22  vote_average           45460 non-null  float64\n",
      " 23  vote_count             45460 non-null  float64\n",
      "dtypes: float64(4), object(20)\n",
      "memory usage: 8.3+ MB\n",
      "None\n",
      "<class 'pandas.core.frame.DataFrame'>\n",
      "RangeIndex: 100004 entries, 0 to 100003\n",
      "Data columns (total 4 columns):\n",
      " #   Column     Non-Null Count   Dtype  \n",
      "---  ------     --------------   -----  \n",
      " 0   userId     100004 non-null  int64  \n",
      " 1   movieId    100004 non-null  int64  \n",
      " 2   rating     100004 non-null  float64\n",
      " 3   timestamp  100004 non-null  int64  \n",
      "dtypes: float64(1), int64(3)\n",
      "memory usage: 3.1 MB\n",
      "None\n",
      "   adult                              belongs_to_collection    budget  \\\n",
      "0  False  {'id': 10194, 'name': 'Toy Story Collection', ...  30000000   \n",
      "1  False                                                NaN  65000000   \n",
      "2  False  {'id': 119050, 'name': 'Grumpy Old Men Collect...         0   \n",
      "3  False                                                NaN  16000000   \n",
      "4  False  {'id': 96871, 'name': 'Father of the Bride Col...         0   \n",
      "\n",
      "                                              genres  \\\n",
      "0  [{'id': 16, 'name': 'Animation'}, {'id': 35, '...   \n",
      "1  [{'id': 12, 'name': 'Adventure'}, {'id': 14, '...   \n",
      "2  [{'id': 10749, 'name': 'Romance'}, {'id': 35, ...   \n",
      "3  [{'id': 35, 'name': 'Comedy'}, {'id': 18, 'nam...   \n",
      "4                     [{'id': 35, 'name': 'Comedy'}]   \n",
      "\n",
      "                               homepage     id    imdb_id original_language  \\\n",
      "0  http://toystory.disney.com/toy-story    862  tt0114709                en   \n",
      "1                                   NaN   8844  tt0113497                en   \n",
      "2                                   NaN  15602  tt0113228                en   \n",
      "3                                   NaN  31357  tt0114885                en   \n",
      "4                                   NaN  11862  tt0113041                en   \n",
      "\n",
      "                original_title  \\\n",
      "0                    Toy Story   \n",
      "1                      Jumanji   \n",
      "2             Grumpier Old Men   \n",
      "3            Waiting to Exhale   \n",
      "4  Father of the Bride Part II   \n",
      "\n",
      "                                            overview  ... release_date  \\\n",
      "0  Led by Woody, Andy's toys live happily in his ...  ...   1995-10-30   \n",
      "1  When siblings Judy and Peter discover an encha...  ...   1995-12-15   \n",
      "2  A family wedding reignites the ancient feud be...  ...   1995-12-22   \n",
      "3  Cheated on, mistreated and stepped on, the wom...  ...   1995-12-22   \n",
      "4  Just when George Banks has recovered from his ...  ...   1995-02-10   \n",
      "\n",
      "       revenue runtime                                   spoken_languages  \\\n",
      "0  373554033.0    81.0           [{'iso_639_1': 'en', 'name': 'English'}]   \n",
      "1  262797249.0   104.0  [{'iso_639_1': 'en', 'name': 'English'}, {'iso...   \n",
      "2          0.0   101.0           [{'iso_639_1': 'en', 'name': 'English'}]   \n",
      "3   81452156.0   127.0           [{'iso_639_1': 'en', 'name': 'English'}]   \n",
      "4   76578911.0   106.0           [{'iso_639_1': 'en', 'name': 'English'}]   \n",
      "\n",
      "     status                                            tagline  \\\n",
      "0  Released                                                NaN   \n",
      "1  Released          Roll the dice and unleash the excitement!   \n",
      "2  Released  Still Yelling. Still Fighting. Still Ready for...   \n",
      "3  Released  Friends are the people who let you be yourself...   \n",
      "4  Released  Just When His World Is Back To Normal... He's ...   \n",
      "\n",
      "                         title  video vote_average vote_count  \n",
      "0                    Toy Story  False          7.7     5415.0  \n",
      "1                      Jumanji  False          6.9     2413.0  \n",
      "2             Grumpier Old Men  False          6.5       92.0  \n",
      "3            Waiting to Exhale  False          6.1       34.0  \n",
      "4  Father of the Bride Part II  False          5.7      173.0  \n",
      "\n",
      "[5 rows x 24 columns]\n",
      "   userId  movieId  rating   timestamp\n",
      "0       1       31     2.5  1260759144\n",
      "1       1     1029     3.0  1260759179\n",
      "2       1     1061     3.0  1260759182\n",
      "3       1     1129     2.0  1260759185\n",
      "4       1     1172     4.0  1260759205\n"
     ]
    }
   ],
   "source": [
    "print(movies.info())\n",
    "print(ratings.info())\n",
    "\n",
    "print(movies.head())\n",
    "print(ratings.head())"
   ]
  },
  {
   "cell_type": "markdown",
   "id": "7236d415-023a-4ea7-ac90-706e2d6fbd14",
   "metadata": {},
   "source": [
    "# Exploratory Data Analysis (EDA)"
   ]
  },
  {
   "cell_type": "code",
   "execution_count": 3,
   "id": "f11c54f8-94f0-40c8-9f05-46cb7c6b2949",
   "metadata": {},
   "outputs": [
    {
     "name": "stdout",
     "output_type": "stream",
     "text": [
      "              userId        movieId         rating     timestamp\n",
      "count  100004.000000  100004.000000  100004.000000  1.000040e+05\n",
      "mean      347.011310   12548.664363       3.543608  1.129639e+09\n",
      "std       195.163838   26369.198969       1.058064  1.916858e+08\n",
      "min         1.000000       1.000000       0.500000  7.896520e+08\n",
      "25%       182.000000    1028.000000       3.000000  9.658478e+08\n",
      "50%       367.000000    2406.500000       4.000000  1.110422e+09\n",
      "75%       520.000000    5418.000000       4.000000  1.296192e+09\n",
      "max       671.000000  163949.000000       5.000000  1.476641e+09\n"
     ]
    },
    {
     "data": {
      "image/png": "[encoded data removed]",
      "text/plain": [
       "<Figure size 640x480 with 1 Axes>"
      ]
     },
     "metadata": {},
     "output_type": "display_data"
    },
    {
     "data": {
      "image/png": "[encoded data removed]",
      "text/plain": [
       "<Figure size 640x480 with 1 Axes>"
      ]
     },
     "metadata": {},
     "output_type": "display_data"
    }
   ],
   "source": [
    "import seaborn as sns\n",
    "import matplotlib.pyplot as plt\n",
    "\n",
    "# Basic statistics\n",
    "print(ratings.describe())\n",
    "\n",
    "# Histogram of ratings\n",
    "ratings['rating'].hist(bins=30)\n",
    "plt.title('Distribution of Movie Ratings')\n",
    "plt.xlabel('Rating')\n",
    "plt.ylabel('Count')\n",
    "plt.show()\n",
    "\n",
    "# Number of ratings per movie\n",
    "ratings_per_movie = ratings.groupby('movieId').count()['rating']\n",
    "ratings_per_movie.hist(bins=50)\n",
    "plt.title('Number of Ratings per Movie')\n",
    "plt.xlabel('Number of Ratings')\n",
    "plt.ylabel('Count')\n",
    "plt.show()"
   ]
  },
  {
   "cell_type": "markdown",
   "id": "98bc2ac5-3c68-45ec-b998-ec5c80ca0104",
   "metadata": {},
   "source": [
    "# Building the Recommender System"
   ]
  },
  {
   "cell_type": "code",
   "execution_count": 4,
   "id": "8ae427f2-90cc-4b5a-80aa-b8817a5e3b1b",
   "metadata": {},
   "outputs": [
    {
     "name": "stdout",
     "output_type": "stream",
     "text": [
      "Evaluating RMSE, MAE of algorithm SVD on 5 split(s).\n",
      "\n",
      "                  Fold 1  Fold 2  Fold 3  Fold 4  Fold 5  Mean    Std     \n",
      "RMSE (testset)    0.8944  0.8935  0.8884  0.9041  0.9027  0.8966  0.0059  \n",
      "MAE (testset)     0.6915  0.6883  0.6840  0.6952  0.6955  0.6909  0.0043  \n",
      "Fit time          2.25    2.25    2.36    2.75    2.37    2.40    0.18    \n",
      "Test time         0.39    0.45    0.41    0.53    0.27    0.41    0.09    \n"
     ]
    },
    {
     "data": {
      "text/plain": [
       "<surprise.prediction_algorithms.matrix_factorization.SVD at 0x224141ec990>"
      ]
     },
     "execution_count": 4,
     "metadata": {},
     "output_type": "execute_result"
    }
   ],
   "source": [
    "from surprise import Dataset, Reader, SVD\n",
    "from surprise.model_selection import cross_validate\n",
    "\n",
    "# Load the data into Surprise format\n",
    "reader = Reader(rating_scale=(0.5, 5))\n",
    "data = Dataset.load_from_df(ratings[['userId', 'movieId', 'rating']], reader)\n",
    "\n",
    "# Use SVD for matrix factorization\n",
    "svd = SVD()\n",
    "\n",
    "# Cross-validation to evaluate the algorithm\n",
    "cross_validate(svd, data, measures=['RMSE', 'MAE'], cv=5, verbose=True)\n",
    "\n",
    "# Training the Model\n",
    "trainset = data.build_full_trainset()\n",
    "svd.fit(trainset)"
   ]
  },
  {
   "cell_type": "markdown",
   "id": "9451e17f-3a90-4f07-a13b-1e6985723c04",
   "metadata": {},
   "source": [
    "# Making Predictions"
   ]
  },
  {
   "cell_type": "code",
   "execution_count": 5,
   "id": "c876379d-8635-4171-b654-a6811d717a43",
   "metadata": {},
   "outputs": [
    {
     "name": "stdout",
     "output_type": "stream",
     "text": [
      "Predicted rating for user 1 and movie 10: 2.65710421278701\n"
     ]
    }
   ],
   "source": [
    "# Predict the rating for a specific user and movie\n",
    "user_id = 1\n",
    "movie_id = 10\n",
    "rating_prediction = svd.predict(user_id, movie_id)\n",
    "print(f\"Predicted rating for user {user_id} and movie {movie_id}: {rating_prediction.est}\")"
   ]
  },
  {
   "cell_type": "markdown",
   "id": "e2d7d947-3f72-44be-80fa-a08f47f28b13",
   "metadata": {},
   "source": [
    "# Recommending Movies"
   ]
  },
  {
   "cell_type": "code",
   "execution_count": 12,
   "id": "5748a6cd-8fd5-4881-8e0b-2eb7431f536d",
   "metadata": {},
   "outputs": [
    {
     "name": "stdout",
     "output_type": "stream",
     "text": [
      "       id  predicted_rating  adult  \\\n",
      "0     862          2.656413  False   \n",
      "1   40777          2.656413  False   \n",
      "2  107308          2.656413  False   \n",
      "3   16247          2.656413  False   \n",
      "4   99904          2.656413  False   \n",
      "5  109463          2.656413  False   \n",
      "6  116439          2.656413  False   \n",
      "7   86541          2.656413  False   \n",
      "8   53210          2.656413  False   \n",
      "9  286521          2.656413  False   \n",
      "\n",
      "                               belongs_to_collection    budget  \\\n",
      "0  {'id': 10194, 'name': 'Toy Story Collection', ...  30000000   \n",
      "1                                                NaN         0   \n",
      "2                                                NaN         0   \n",
      "3                                                NaN         0   \n",
      "4                                                NaN         0   \n",
      "5                                                NaN         0   \n",
      "6                                                NaN         0   \n",
      "7                                                NaN         0   \n",
      "8                                                NaN         0   \n",
      "9                                                NaN   6000000   \n",
      "\n",
      "                                              genres  \\\n",
      "0  [{'id': 16, 'name': 'Animation'}, {'id': 35, '...   \n",
      "1  [{'id': 35, 'name': 'Comedy'}, {'id': 18, 'nam...   \n",
      "2  [{'id': 878, 'name': 'Science Fiction'}, {'id'...   \n",
      "3  [{'id': 10402, 'name': 'Music'}, {'id': 99, 'n...   \n",
      "4                                                 []   \n",
      "5  [{'id': 878, 'name': 'Science Fiction'}, {'id'...   \n",
      "6  [{'id': 12, 'name': 'Adventure'}, {'id': 18, '...   \n",
      "7                     [{'id': 35, 'name': 'Comedy'}]   \n",
      "8                  [{'id': 16, 'name': 'Animation'}]   \n",
      "9                      [{'id': 18, 'name': 'Drama'}]   \n",
      "\n",
      "                               homepage    imdb_id original_language  \\\n",
      "0  http://toystory.disney.com/toy-story  tt0114709                en   \n",
      "1                                   NaN  tt1667838                en   \n",
      "2                                   NaN  tt0167320                ja   \n",
      "3                                   NaN  tt0061658                en   \n",
      "4                                   NaN  tt1466069                en   \n",
      "5             http://www.die-farbe.com/  tt1756479                de   \n",
      "6                                   NaN  tt0073014                en   \n",
      "7                                   NaN  tt1924273                en   \n",
      "8                                   NaN  tt0045708                en   \n",
      "9                                   NaN  tt2933544                en   \n",
      "\n",
      "       original_title  ... release_date      revenue runtime  \\\n",
      "0           Toy Story  ...   1995-10-30  373554033.0    81.0   \n",
      "1   I Hate Luv Storys  ...   2010-07-02          0.0   135.0   \n",
      "2            Ōgon Bat  ...   1966-12-21          0.0    73.0   \n",
      "3            Festival  ...   1967-10-22          0.0    97.0   \n",
      "4       The Prospects  ...   2011-03-22          0.0    79.0   \n",
      "5           Die Farbe  ...   2010-10-30          0.0    85.0   \n",
      "6             Foxtrot  ...   1976-03-01          0.0    91.0   \n",
      "7  Promoción Fantasma  ...   2012-02-03          0.0    88.0   \n",
      "8          Duck Amuck  ...   1953-02-28          0.0     7.0   \n",
      "9        5 Flights Up  ...   2014-09-05    1020921.0    92.0   \n",
      "\n",
      "                                    spoken_languages    status  \\\n",
      "0           [{'iso_639_1': 'en', 'name': 'English'}]  Released   \n",
      "1            [{'iso_639_1': 'hi', 'name': 'हिन्दी'}]  Released   \n",
      "2               [{'iso_639_1': 'ja', 'name': '日本語'}]  Released   \n",
      "3           [{'iso_639_1': 'en', 'name': 'English'}]  Released   \n",
      "4           [{'iso_639_1': 'en', 'name': 'English'}]  Released   \n",
      "5  [{'iso_639_1': 'en', 'name': 'English'}, {'iso...  Released   \n",
      "6           [{'iso_639_1': 'en', 'name': 'English'}]  Released   \n",
      "7           [{'iso_639_1': 'es', 'name': 'Español'}]  Released   \n",
      "8           [{'iso_639_1': 'en', 'name': 'English'}]  Released   \n",
      "9           [{'iso_639_1': 'en', 'name': 'English'}]  Released   \n",
      "\n",
      "                                             tagline                    title  \\\n",
      "0                                                NaN                Toy Story   \n",
      "1                                                NaN        I Hate Luv Storys   \n",
      "2                                                NaN           The Golden Bat   \n",
      "3  Newport is an oasis of beautiful music - and b...                 Festival   \n",
      "4                                                NaN            The Prospects   \n",
      "5                       No one, no one forgets it...  The Colour Out of Space   \n",
      "6                                                NaN                  Foxtrot   \n",
      "7                                                NaN         Ghost Graduation   \n",
      "8                                                NaN               Duck Amuck   \n",
      "9                              A coming of age story             5 Flights Up   \n",
      "\n",
      "   video vote_average vote_count  \n",
      "0  False          7.7     5415.0  \n",
      "1  False          6.1       35.0  \n",
      "2  False          0.0        0.0  \n",
      "3  False          3.8        2.0  \n",
      "4  False          1.0        1.0  \n",
      "5  False          5.9        7.0  \n",
      "6  False          4.8        2.0  \n",
      "7  False          5.7       50.0  \n",
      "8  False          8.3       48.0  \n",
      "9  False          5.9       92.0  \n",
      "\n",
      "[10 rows x 25 columns]\n"
     ]
    }
   ],
   "source": [
    "# Function to recommend top N movies for a given user\n",
    "def recommend_movies(user_id, num_recommendations=10):\n",
    "    # Get a list of all movie ids\n",
    "    movie_ids = movies['id'].unique()\n",
    "\n",
    "    # Predict ratings for all movies the user hasn't rated yet\n",
    "    movie_ratings = [svd.predict(user_id, movie_id).est for movie_id in movie_ids]\n",
    "\n",
    "    # Create a DataFrame of movie ids and predicted ratings\n",
    "    recommendations = pd.DataFrame({\n",
    "        'id': movie_ids,\n",
    "        'predicted_rating': movie_ratings\n",
    "    })\n",
    "\n",
    "    # Sort the DataFrame by predicted rating in descending order\n",
    "    recommendations = recommendations.sort_values(by='predicted_rating', ascending=False)\n",
    "\n",
    "    # Get the top N recommended movies\n",
    "    top_recommendations = recommendations.head(num_recommendations)\n",
    "\n",
    "    # Merge with the movies DataFrame to get movie titles\n",
    "    top_recommendations = pd.merge(top_recommendations, movies, on='id')\n",
    "\n",
    "    return top_recommendations\n",
    "\n",
    "# Recommend top 10 movies for user with ID 1\n",
    "recommendations = recommend_movies(1, 10)\n",
    "print(recommendations)"
   ]
  }
 ],
 "metadata": {
  "kernelspec": {
   "display_name": "Python 3 (ipykernel)",
   "language": "python",
   "name": "python3"
  },
  "language_info": {
   "codemirror_mode": {
    "name": "ipython",
    "version": 3
   },
   "file_extension": ".py",
   "mimetype": "text/x-python",
   "name": "python",
   "nbconvert_exporter": "python",
   "pygments_lexer": "ipython3",
   "version": "3.11.7"
  }
 },
 "nbformat": 4,
 "nbformat_minor": 5
}
